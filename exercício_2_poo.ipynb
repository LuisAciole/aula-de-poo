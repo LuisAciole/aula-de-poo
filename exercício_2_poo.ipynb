{
  "nbformat": 4,
  "nbformat_minor": 0,
  "metadata": {
    "colab": {
      "provenance": [],
      "authorship_tag": "ABX9TyML7FuKQl6jbLtwhrJ7Php2",
      "include_colab_link": true
    },
    "kernelspec": {
      "name": "python3",
      "display_name": "Python 3"
    },
    "language_info": {
      "name": "python"
    }
  },
  "cells": [
    {
      "cell_type": "markdown",
      "metadata": {
        "id": "view-in-github",
        "colab_type": "text"
      },
      "source": [
        "<a href=\"https://colab.research.google.com/github/LuisAciole/aula-de-poo/blob/main/exerc%C3%ADcio_2_poo.ipynb\" target=\"_parent\"><img src=\"https://colab.research.google.com/assets/colab-badge.svg\" alt=\"Open In Colab\"/></a>"
      ]
    },
    {
      "cell_type": "code",
      "execution_count": null,
      "metadata": {
        "id": "mAdVtbPmmWit"
      },
      "outputs": [],
      "source": [
        "p = float(input(\"Digite seu valor em Polegadas\"))\n",
        "m = p * 25.4\n",
        "print (f\"{p} polegadas é igual a {m:.2f} milímetros.\")"
      ]
    },
    {
      "cell_type": "code",
      "source": [],
      "metadata": {
        "id": "popswc7cmaT8"
      },
      "execution_count": null,
      "outputs": []
    }
  ]
}