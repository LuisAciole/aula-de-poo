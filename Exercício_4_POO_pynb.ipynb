{
  "nbformat": 4,
  "nbformat_minor": 0,
  "metadata": {
    "colab": {
      "provenance": [],
      "authorship_tag": "ABX9TyNSw/G1eX3e6A3Hfe8LDvSp",
      "include_colab_link": true
    },
    "kernelspec": {
      "name": "python3",
      "display_name": "Python 3"
    },
    "language_info": {
      "name": "python"
    }
  },
  "cells": [
    {
      "cell_type": "markdown",
      "metadata": {
        "id": "view-in-github",
        "colab_type": "text"
      },
      "source": [
        "<a href=\"https://colab.research.google.com/github/LuisAciole/aula-de-poo/blob/main/Exerc%C3%ADcio_4_POO_pynb.ipynb\" target=\"_parent\"><img src=\"https://colab.research.google.com/assets/colab-badge.svg\" alt=\"Open In Colab\"/></a>"
      ]
    },
    {
      "cell_type": "code",
      "execution_count": 20,
      "metadata": {
        "colab": {
          "base_uri": "https://localhost:8080/"
        },
        "id": "DGtF8cxhpOVp",
        "outputId": "982ccd7b-1526-41f8-cbad-2fa2e460b968"
      },
      "outputs": [
        {
          "output_type": "stream",
          "name": "stdout",
          "text": [
            "Digite sua idade: 70\n",
            "Você pode votar!\n"
          ]
        }
      ],
      "source": [
        "# Exercício 4 POO (IDADES IF E ELSE VOTO)\n",
        "\n",
        "idade = int(input('Digite sua idade: '))\n",
        "if 16 <= idade or idade >= 70:\n",
        "    print('Você pode votar!')\n",
        "else:\n",
        "    print('Você não pode votar!')\n",
        "\n",
        "\n",
        "\n"
      ]
    }
  ]
}