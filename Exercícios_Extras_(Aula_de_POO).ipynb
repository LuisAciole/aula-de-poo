{
  "nbformat": 4,
  "nbformat_minor": 0,
  "metadata": {
    "colab": {
      "provenance": [],
      "authorship_tag": "ABX9TyO4thy7FUVdP+gUhd2gPIDe",
      "include_colab_link": true
    },
    "kernelspec": {
      "name": "python3",
      "display_name": "Python 3"
    },
    "language_info": {
      "name": "python"
    }
  },
  "cells": [
    {
      "cell_type": "markdown",
      "metadata": {
        "id": "view-in-github",
        "colab_type": "text"
      },
      "source": [
        "<a href=\"https://colab.research.google.com/github/LuisAciole/aula-de-poo/blob/main/Exerc%C3%ADcios_Extras_(Aula_de_POO).ipynb\" target=\"_parent\"><img src=\"https://colab.research.google.com/assets/colab-badge.svg\" alt=\"Open In Colab\"/></a>"
      ]
    },
    {
      "cell_type": "code",
      "execution_count": 8,
      "metadata": {
        "colab": {
          "base_uri": "https://localhost:8080/"
        },
        "id": "vdxDv1MMlrQg",
        "outputId": "15ca940f-5d60-4ab6-dfcc-155c70c6bbc7"
      },
      "outputs": [
        {
          "output_type": "stream",
          "name": "stdout",
          "text": [
            "Digite o valor de A: 10\n",
            "Digite o valor de B: 3\n",
            "Digite o valor de C: 4\n",
            "Aprovado\n",
            "B é o menor valor\n"
          ]
        }
      ],
      "source": [
        "#Ler e comparar valores A e B (Notas) com pesos 2 e 3 respectivamente\n",
        "\n",
        "a = int(input(\"Digite o valor de A: \"))\n",
        "b = int(input(\"Digite o valor de B: \"))\n",
        "c = int(input(\"Digite o valor de C: \"))\n",
        "if a * 2 + b * 3 + c /3 >= 5:\n",
        "    print(\"Aprovado\")\n",
        "else:\n",
        "    print(\"Reprovado\")\n",
        "if a <= b and a <= c:\n",
        "    print(\"A é o menor valor\")\n",
        "elif b <= a and b <= c:\n",
        "    print(\"B é o menor valor\")\n",
        "else:\n",
        "    print(\"C é o menor valor\")"
      ]
    },
    {
      "cell_type": "markdown",
      "source": [],
      "metadata": {
        "id": "sIuU2qHHqbrq"
      }
    },
    {
      "cell_type": "code",
      "source": [
        "# Ler valor e verificar se é múltiplo de 3\n",
        "\n",
        "x = int(input(\"Digite o valor de x: \"))\n",
        "r = x % 3\n",
        "if r==0:\n",
        "  print (\"Múltiplo de 3\")\n",
        "else:\n",
        "  print (\"Não é múltiplo de 3\")"
      ],
      "metadata": {
        "colab": {
          "base_uri": "https://localhost:8080/"
        },
        "id": "kWTdjXZWqcD6",
        "outputId": "11120659-cd7e-4409-9f07-e4b74015238f"
      },
      "execution_count": 18,
      "outputs": [
        {
          "output_type": "stream",
          "name": "stdout",
          "text": [
            "Digite o valor de x: 18\n",
            "Múltiplo de 3\n"
          ]
        }
      ]
    }
  ]
}